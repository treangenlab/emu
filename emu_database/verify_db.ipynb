{
 "cells": [
  {
   "cell_type": "code",
   "execution_count": 2,
   "id": "6c044dc2",
   "metadata": {},
   "outputs": [],
   "source": [
    "import pandas as pd"
   ]
  },
  {
   "cell_type": "code",
   "execution_count": 24,
   "id": "87cabaca",
   "metadata": {
    "scrolled": false
   },
   "outputs": [],
   "source": [
    "df = pd.read_csv(\"/Users/hubingbing/Downloads/Duplicate_taxid/taxonomy.tsv\", sep=\"\\t\") "
   ]
  },
  {
   "cell_type": "code",
   "execution_count": 25,
   "id": "17d0da19",
   "metadata": {},
   "outputs": [
    {
     "data": {
      "text/html": [
       "<div>\n",
       "<style scoped>\n",
       "    .dataframe tbody tr th:only-of-type {\n",
       "        vertical-align: middle;\n",
       "    }\n",
       "\n",
       "    .dataframe tbody tr th {\n",
       "        vertical-align: top;\n",
       "    }\n",
       "\n",
       "    .dataframe thead th {\n",
       "        text-align: right;\n",
       "    }\n",
       "</style>\n",
       "<table border=\"1\" class=\"dataframe\">\n",
       "  <thead>\n",
       "    <tr style=\"text-align: right;\">\n",
       "      <th></th>\n",
       "      <th>tax_id</th>\n",
       "      <th>species</th>\n",
       "      <th>genus</th>\n",
       "      <th>family</th>\n",
       "      <th>order</th>\n",
       "      <th>class</th>\n",
       "      <th>phylum</th>\n",
       "      <th>clade</th>\n",
       "      <th>superkingdom</th>\n",
       "      <th>subspecies</th>\n",
       "      <th>species subgroup</th>\n",
       "      <th>species group</th>\n",
       "    </tr>\n",
       "  </thead>\n",
       "  <tbody>\n",
       "    <tr>\n",
       "      <th>0</th>\n",
       "      <td>622671</td>\n",
       "      <td>Desulfobotulus alkaliphilus</td>\n",
       "      <td>Desulfobotulus</td>\n",
       "      <td>Desulfobacteraceae</td>\n",
       "      <td>Desulfobacterales</td>\n",
       "      <td>Deltaproteobacteria</td>\n",
       "      <td>Proteobacteria</td>\n",
       "      <td>NaN</td>\n",
       "      <td>Bacteria</td>\n",
       "      <td>NaN</td>\n",
       "      <td>NaN</td>\n",
       "      <td>NaN</td>\n",
       "    </tr>\n",
       "    <tr>\n",
       "      <th>1</th>\n",
       "      <td>1338382</td>\n",
       "      <td>Desulfitobacterium sp. PR</td>\n",
       "      <td>Desulfitobacterium</td>\n",
       "      <td>Desulfitobacteriaceae</td>\n",
       "      <td>Eubacteriales</td>\n",
       "      <td>Clostridia</td>\n",
       "      <td>Firmicutes</td>\n",
       "      <td>Terrabacteria group</td>\n",
       "      <td>Bacteria</td>\n",
       "      <td>NaN</td>\n",
       "      <td>NaN</td>\n",
       "      <td>NaN</td>\n",
       "    </tr>\n",
       "    <tr>\n",
       "      <th>2</th>\n",
       "      <td>1610527</td>\n",
       "      <td>Devosia honganensis</td>\n",
       "      <td>Devosia</td>\n",
       "      <td>Devosiaceae</td>\n",
       "      <td>Hyphomicrobiales</td>\n",
       "      <td>Alphaproteobacteria</td>\n",
       "      <td>Proteobacteria</td>\n",
       "      <td>NaN</td>\n",
       "      <td>Bacteria</td>\n",
       "      <td>NaN</td>\n",
       "      <td>NaN</td>\n",
       "      <td>NaN</td>\n",
       "    </tr>\n",
       "    <tr>\n",
       "      <th>3</th>\n",
       "      <td>426706</td>\n",
       "      <td>Desulfomicrobium aestuarii</td>\n",
       "      <td>Desulfomicrobium</td>\n",
       "      <td>Desulfomicrobiaceae</td>\n",
       "      <td>Desulfovibrionales</td>\n",
       "      <td>Deltaproteobacteria</td>\n",
       "      <td>Proteobacteria</td>\n",
       "      <td>NaN</td>\n",
       "      <td>Bacteria</td>\n",
       "      <td>NaN</td>\n",
       "      <td>NaN</td>\n",
       "      <td>NaN</td>\n",
       "    </tr>\n",
       "    <tr>\n",
       "      <th>4</th>\n",
       "      <td>81459</td>\n",
       "      <td>Entomoplasma melaleucae</td>\n",
       "      <td>Entomoplasma</td>\n",
       "      <td>Entomoplasmataceae</td>\n",
       "      <td>Entomoplasmatales</td>\n",
       "      <td>Mollicutes</td>\n",
       "      <td>Tenericutes</td>\n",
       "      <td>Terrabacteria group</td>\n",
       "      <td>Bacteria</td>\n",
       "      <td>NaN</td>\n",
       "      <td>NaN</td>\n",
       "      <td>NaN</td>\n",
       "    </tr>\n",
       "    <tr>\n",
       "      <th>...</th>\n",
       "      <td>...</td>\n",
       "      <td>...</td>\n",
       "      <td>...</td>\n",
       "      <td>...</td>\n",
       "      <td>...</td>\n",
       "      <td>...</td>\n",
       "      <td>...</td>\n",
       "      <td>...</td>\n",
       "      <td>...</td>\n",
       "      <td>...</td>\n",
       "      <td>...</td>\n",
       "      <td>...</td>\n",
       "    </tr>\n",
       "    <tr>\n",
       "      <th>47558</th>\n",
       "      <td>171390</td>\n",
       "      <td>Chroococcidiopsis sp. BB96.1</td>\n",
       "      <td>Chroococcidiopsis</td>\n",
       "      <td>Chroococcidiopsidaceae</td>\n",
       "      <td>Chroococcidiopsidales</td>\n",
       "      <td>NaN</td>\n",
       "      <td>Cyanobacteria</td>\n",
       "      <td>Terrabacteria group</td>\n",
       "      <td>Bacteria</td>\n",
       "      <td>NaN</td>\n",
       "      <td>NaN</td>\n",
       "      <td>NaN</td>\n",
       "    </tr>\n",
       "    <tr>\n",
       "      <th>47559</th>\n",
       "      <td>171290</td>\n",
       "      <td>Mycoplasma oxoniensis</td>\n",
       "      <td>Mycoplasma</td>\n",
       "      <td>Mycoplasmataceae</td>\n",
       "      <td>Mycoplasmatales</td>\n",
       "      <td>Mollicutes</td>\n",
       "      <td>Tenericutes</td>\n",
       "      <td>Terrabacteria group</td>\n",
       "      <td>Bacteria</td>\n",
       "      <td>NaN</td>\n",
       "      <td>NaN</td>\n",
       "      <td>NaN</td>\n",
       "    </tr>\n",
       "    <tr>\n",
       "      <th>47560</th>\n",
       "      <td>171388</td>\n",
       "      <td>Chroococcidiopsis sp. BB82.3</td>\n",
       "      <td>Chroococcidiopsis</td>\n",
       "      <td>Chroococcidiopsidaceae</td>\n",
       "      <td>Chroococcidiopsidales</td>\n",
       "      <td>NaN</td>\n",
       "      <td>Cyanobacteria</td>\n",
       "      <td>Terrabacteria group</td>\n",
       "      <td>Bacteria</td>\n",
       "      <td>NaN</td>\n",
       "      <td>NaN</td>\n",
       "      <td>NaN</td>\n",
       "    </tr>\n",
       "    <tr>\n",
       "      <th>47561</th>\n",
       "      <td>171387</td>\n",
       "      <td>Chroococcidiopsis sp. BB79.2</td>\n",
       "      <td>Chroococcidiopsis</td>\n",
       "      <td>Chroococcidiopsidaceae</td>\n",
       "      <td>Chroococcidiopsidales</td>\n",
       "      <td>NaN</td>\n",
       "      <td>Cyanobacteria</td>\n",
       "      <td>Terrabacteria group</td>\n",
       "      <td>Bacteria</td>\n",
       "      <td>NaN</td>\n",
       "      <td>NaN</td>\n",
       "      <td>NaN</td>\n",
       "    </tr>\n",
       "    <tr>\n",
       "      <th>47562</th>\n",
       "      <td>171395</td>\n",
       "      <td>Fischerella sp. BB98.1</td>\n",
       "      <td>Fischerella</td>\n",
       "      <td>Hapalosiphonaceae</td>\n",
       "      <td>Nostocales</td>\n",
       "      <td>NaN</td>\n",
       "      <td>Cyanobacteria</td>\n",
       "      <td>Terrabacteria group</td>\n",
       "      <td>Bacteria</td>\n",
       "      <td>NaN</td>\n",
       "      <td>NaN</td>\n",
       "      <td>NaN</td>\n",
       "    </tr>\n",
       "  </tbody>\n",
       "</table>\n",
       "<p>47563 rows × 12 columns</p>\n",
       "</div>"
      ],
      "text/plain": [
       "        tax_id                       species               genus  \\\n",
       "0       622671   Desulfobotulus alkaliphilus      Desulfobotulus   \n",
       "1      1338382     Desulfitobacterium sp. PR  Desulfitobacterium   \n",
       "2      1610527           Devosia honganensis             Devosia   \n",
       "3       426706    Desulfomicrobium aestuarii    Desulfomicrobium   \n",
       "4        81459       Entomoplasma melaleucae        Entomoplasma   \n",
       "...        ...                           ...                 ...   \n",
       "47558   171390  Chroococcidiopsis sp. BB96.1   Chroococcidiopsis   \n",
       "47559   171290         Mycoplasma oxoniensis          Mycoplasma   \n",
       "47560   171388  Chroococcidiopsis sp. BB82.3   Chroococcidiopsis   \n",
       "47561   171387  Chroococcidiopsis sp. BB79.2   Chroococcidiopsis   \n",
       "47562   171395        Fischerella sp. BB98.1         Fischerella   \n",
       "\n",
       "                       family                  order                class  \\\n",
       "0          Desulfobacteraceae      Desulfobacterales  Deltaproteobacteria   \n",
       "1       Desulfitobacteriaceae          Eubacteriales           Clostridia   \n",
       "2                 Devosiaceae       Hyphomicrobiales  Alphaproteobacteria   \n",
       "3         Desulfomicrobiaceae     Desulfovibrionales  Deltaproteobacteria   \n",
       "4          Entomoplasmataceae      Entomoplasmatales           Mollicutes   \n",
       "...                       ...                    ...                  ...   \n",
       "47558  Chroococcidiopsidaceae  Chroococcidiopsidales                  NaN   \n",
       "47559        Mycoplasmataceae        Mycoplasmatales           Mollicutes   \n",
       "47560  Chroococcidiopsidaceae  Chroococcidiopsidales                  NaN   \n",
       "47561  Chroococcidiopsidaceae  Chroococcidiopsidales                  NaN   \n",
       "47562       Hapalosiphonaceae             Nostocales                  NaN   \n",
       "\n",
       "               phylum                clade superkingdom  subspecies  \\\n",
       "0      Proteobacteria                  NaN     Bacteria         NaN   \n",
       "1          Firmicutes  Terrabacteria group     Bacteria         NaN   \n",
       "2      Proteobacteria                  NaN     Bacteria         NaN   \n",
       "3      Proteobacteria                  NaN     Bacteria         NaN   \n",
       "4         Tenericutes  Terrabacteria group     Bacteria         NaN   \n",
       "...               ...                  ...          ...         ...   \n",
       "47558   Cyanobacteria  Terrabacteria group     Bacteria         NaN   \n",
       "47559     Tenericutes  Terrabacteria group     Bacteria         NaN   \n",
       "47560   Cyanobacteria  Terrabacteria group     Bacteria         NaN   \n",
       "47561   Cyanobacteria  Terrabacteria group     Bacteria         NaN   \n",
       "47562   Cyanobacteria  Terrabacteria group     Bacteria         NaN   \n",
       "\n",
       "      species subgroup species group  \n",
       "0                  NaN           NaN  \n",
       "1                  NaN           NaN  \n",
       "2                  NaN           NaN  \n",
       "3                  NaN           NaN  \n",
       "4                  NaN           NaN  \n",
       "...                ...           ...  \n",
       "47558              NaN           NaN  \n",
       "47559              NaN           NaN  \n",
       "47560              NaN           NaN  \n",
       "47561              NaN           NaN  \n",
       "47562              NaN           NaN  \n",
       "\n",
       "[47563 rows x 12 columns]"
      ]
     },
     "execution_count": 25,
     "metadata": {},
     "output_type": "execute_result"
    }
   ],
   "source": [
    "df"
   ]
  },
  {
   "cell_type": "code",
   "execution_count": 26,
   "id": "7aa22f8c",
   "metadata": {},
   "outputs": [],
   "source": [
    "boolean_series = df.duplicated(subset=[\"tax_id\"])"
   ]
  },
  {
   "cell_type": "code",
   "execution_count": 42,
   "id": "319879be",
   "metadata": {
    "scrolled": true
   },
   "outputs": [],
   "source": [
    "repeats = df[\"tax_id\"][boolean_series]"
   ]
  },
  {
   "cell_type": "code",
   "execution_count": 44,
   "id": "22c37a16",
   "metadata": {},
   "outputs": [
    {
     "name": "stdout",
     "output_type": "stream",
     "text": [
      "246\n"
     ]
    }
   ],
   "source": [
    "print(repeats.size)"
   ]
  },
  {
   "cell_type": "code",
   "execution_count": 45,
   "id": "f6b3c696",
   "metadata": {},
   "outputs": [
    {
     "name": "stdout",
     "output_type": "stream",
     "text": [
      "<class 'pandas.core.series.Series'>\n"
     ]
    }
   ],
   "source": [
    "print(type(repeats))"
   ]
  },
  {
   "cell_type": "code",
   "execution_count": 47,
   "id": "c663d580",
   "metadata": {
    "scrolled": true
   },
   "outputs": [
    {
     "data": {
      "text/plain": [
       "897         1428\n",
       "4063         623\n",
       "8264        1894\n",
       "8641        1245\n",
       "15318        358\n",
       "          ...   \n",
       "47535    1534743\n",
       "47541    2083055\n",
       "47542     142651\n",
       "47543    2083054\n",
       "47544       2122\n",
       "Name: tax_id, Length: 246, dtype: int64"
      ]
     },
     "execution_count": 47,
     "metadata": {},
     "output_type": "execute_result"
    }
   ],
   "source": [
    "repeats"
   ]
  },
  {
   "cell_type": "code",
   "execution_count": 54,
   "id": "eb13749a",
   "metadata": {
    "scrolled": true
   },
   "outputs": [
    {
     "name": "stdout",
     "output_type": "stream",
     "text": [
      "1428, 623, 1894, 1245, 358, 13687, 1883, 1886637, 584, 307643, 1532905, 1696, 531938, 714, 47760, 1883, 53445, 332101, 286, 298, 395600, 698769, 1089306, 1841, 32008, 2056873, 1961, 67384, 32046, 1883, 84567, 71190, 1649279, 476, 51669, 394095, 2236, 413401, 496866, 157076, 330922, 512649, 930805, 371036, 727, 1921578, 577492, 1074311, 317, 535712, 81034, 43997, 28189, 1486246, 53462, 2093, 691, 44249, 306, 813, 381300, 2093, 669, 223527, 2093, 1458492, 2093, 2093, 1882268, 316, 1935978, 76832, 256, 669, 1283291, 33, 83456, 77097, 1917449, 316, 1126240, 29284, 65093, 261685, 395935, 452084, 215690, 1416776, 502829, 669, 669, 669, 44933, 370769, 1534743, 588898, 2337, 2093, 2746, 35622, 286, 1827300, 1508420, 1508419, 2093, 44249, 2104, 1028989, 483539, 2109, 158080, 1278643, 669, 2093, 2093, 76630, 1346688, 1636610, 669, 1278643, 376489, 114886, 2093, 2746, 2109, 2054919, 1338689, 1278643, 2746, 1338689, 52021, 370323, 2093, 370769, 286, 52021, 444459, 413816, 376489, 253237, 413815, 1534743, 2067572, 2067572, 146785, 2336, 691825, 150396, 2093, 2104, 29557, 2054919, 1636610, 2093, 2746, 669, 2083054, 368454, 1338689, 2083054, 146785, 245294, 2093, 380547, 142651, 425309, 669, 353800, 29561, 171632, 520762, 2067572, 224312, 224312, 1500686, 329163, 28227, 1534743, 2109, 1278643, 2161724, 669, 2109, 370769, 52021, 142651, 64713, 669, 650850, 370323, 691825, 370323, 118675, 353800, 29557, 2109, 245294, 114885, 370769, 1500686, 150396, 392421, 2746, 1547897, 872983, 2746, 44933, 2054919, 376489, 2336, 2746, 1827300, 392421, 35622, 1500686, 29283, 337243, 2746, 1534743, 368454, 337243, 2083055, 48003, 2337, 286, 2746, 2107, 1338689, 171632, 416585, 2109, 44933, 1534743, 28227, 1383851, 64713, 353800, 50740, 1534743, 1500687, 380547, 1534743, 2083055, 142651, 2083054, 2122\n"
     ]
    }
   ],
   "source": [
    "repeated_id_str = \"\"\n",
    "for i in repeats:\n",
    "    repeated_id_str += str(i)+\", \"\n",
    "print(repeated_id_str[:-2])"
   ]
  }
 ],
 "metadata": {
  "kernelspec": {
   "display_name": "Python 3",
   "language": "python",
   "name": "python3"
  },
  "language_info": {
   "codemirror_mode": {
    "name": "ipython",
    "version": 3
   },
   "file_extension": ".py",
   "mimetype": "text/x-python",
   "name": "python",
   "nbconvert_exporter": "python",
   "pygments_lexer": "ipython3",
   "version": "3.8.8"
  }
 },
 "nbformat": 4,
 "nbformat_minor": 5
}
